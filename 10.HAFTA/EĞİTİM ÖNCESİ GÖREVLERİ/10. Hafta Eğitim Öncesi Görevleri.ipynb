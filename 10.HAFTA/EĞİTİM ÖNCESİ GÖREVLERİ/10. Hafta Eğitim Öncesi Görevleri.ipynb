{
 "cells": [
  {
   "attachments": {},
   "cell_type": "markdown",
   "metadata": {},
   "source": [
    "# Problem 1"
   ]
  },
  {
   "cell_type": "code",
   "execution_count": 15,
   "metadata": {},
   "outputs": [
    {
     "name": "stdout",
     "output_type": "stream",
     "text": [
      "Matrisin boyutu: (5,)\n",
      "Yeniden boyutlandırılmış matrisin boyut sayısı: 2\n",
      "Yeniden boyutlandırılmış matris:\n",
      " [[1 3 8 7 6]]\n"
     ]
    }
   ],
   "source": [
    "# 1 - numpy kütüphanesini import edin\n",
    "\n",
    "# 2 - 0 ile 10 arasında 5 sayıdan oluşan matris üretin\n",
    "\n",
    "# 3 - matris'in boyutunu öğrenin\n",
    "\n",
    "# 4 - matris'i yeniden boyutlandırın\n",
    "\n",
    "# 5 - matris'in boyut sayısını öğrenin\n",
    "\n",
    "import numpy as np\n",
    "def matris_islemleri():\n",
    "    # 2 - 0 ile 10 arasında 5 sayıdan oluşan matris üretin\n",
    "    matris = np.random.randint(0, 10, 5)\n",
    "    \n",
    "    # 3 - matris'in boyutunu öğrenin\n",
    "    matris_boyut = matris.shape\n",
    "    print(\"Matrisin boyutu:\", matris_boyut)\n",
    "    \n",
    "    # 4 - matris'i yeniden boyutlandırın\n",
    "    yeniden_boyutlandirilmis_matris = matris.reshape(1, 5)\n",
    "    \n",
    "    # 5 - matris'in boyut sayısını öğrenin\n",
    "    boyut_sayisi = yeniden_boyutlandirilmis_matris.ndim\n",
    "    print(\"Yeniden boyutlandırılmış matrisin boyut sayısı:\", boyut_sayisi)\n",
    "    \n",
    "    return yeniden_boyutlandirilmis_matris\n",
    "\n",
    "# Fonksiyonu çağırarak sonucu görebilirsiniz\n",
    "matris_ = matris_islemleri()\n",
    "print(\"Yeniden boyutlandırılmış matris:\\n\", matris_)\n",
    "\n"
   ]
  },
  {
   "attachments": {},
   "cell_type": "markdown",
   "metadata": {},
   "source": [
    "# Problem 2"
   ]
  },
  {
   "cell_type": "code",
   "execution_count": 13,
   "metadata": {},
   "outputs": [
    {
     "name": "stdout",
     "output_type": "stream",
     "text": [
      "Tek sayılardan oluşan matris: [1 3 5 7 9]\n",
      "Matrisin parçaları:\n",
      "[1 3 5]\n",
      "[7 9]\n",
      "Birleştirilmiş matris: [1 3 5 7 9]\n"
     ]
    }
   ],
   "source": [
    "# 1 - 0 ile 10 arasında bulunan tek sayılardan oluşan matris üretin\n",
    "\n",
    "# 2 - Oluşturduğunuz matrisi parçalayın\n",
    "\n",
    "# 3 - Parçalanmış matrisleri birleştirin\n",
    "\n",
    "import numpy as np\n",
    "\n",
    "def matris_islemleri():\n",
    "    # 1 - 0 ile 10 arasında bulunan tek sayılardan oluşan matris üretin\n",
    "    tek_sayilar = np.arange(1, 10, 2)\n",
    "    print(\"Tek sayılardan oluşan matris:\", tek_sayilar)\n",
    "    \n",
    "    # 2 - Oluşturduğunuz matrisi parçalayın\n",
    "    parcalar = np.array_split(tek_sayilar, 2)\n",
    "    print(\"Matrisin parçaları:\")\n",
    "    for parca in parcalar:\n",
    "        print(parca)\n",
    "    \n",
    "    # 3 - Parçalanmış matrisleri birleştirin\n",
    "    birlestirilmis_matris = np.concatenate(parcalar)\n",
    "    print(\"Birleştirilmiş matris:\", birlestirilmis_matris)\n",
    "    \n",
    "    return birlestirilmis_matris\n",
    "\n",
    "# Fonksiyonu çağırarak sonucu görebilirsiniz\n",
    "matris_ = matris_islemleri()\n",
    "\n"
   ]
  },
  {
   "cell_type": "code",
   "execution_count": 12,
   "metadata": {},
   "outputs": [
    {
     "name": "stdout",
     "output_type": "stream",
     "text": [
      "Collecting numpy\n",
      "  Downloading numpy-2.0.1-cp312-cp312-win_amd64.whl.metadata (60 kB)\n",
      "     ---------------------------------------- 0.0/60.9 kB ? eta -:--:--\n",
      "     ------------------- ------------------ 30.7/60.9 kB 660.6 kB/s eta 0:00:01\n",
      "     -------------------------------------- 60.9/60.9 kB 817.1 kB/s eta 0:00:00\n",
      "Downloading numpy-2.0.1-cp312-cp312-win_amd64.whl (16.3 MB)\n",
      "   ---------------------------------------- 0.0/16.3 MB ? eta -:--:--\n",
      "   ---------------------------------------- 0.1/16.3 MB 3.2 MB/s eta 0:00:06\n",
      "   ---------------------------------------- 0.1/16.3 MB 2.8 MB/s eta 0:00:06\n",
      "    --------------------------------------- 0.3/16.3 MB 3.3 MB/s eta 0:00:05\n",
      "   - -------------------------------------- 0.5/16.3 MB 3.7 MB/s eta 0:00:05\n",
      "   - -------------------------------------- 0.8/16.3 MB 4.1 MB/s eta 0:00:04\n",
      "   -- ------------------------------------- 1.1/16.3 MB 4.5 MB/s eta 0:00:04\n",
      "   --- ------------------------------------ 1.4/16.3 MB 5.1 MB/s eta 0:00:03\n",
      "   ---- ----------------------------------- 1.7/16.3 MB 5.2 MB/s eta 0:00:03\n",
      "   ---- ----------------------------------- 2.0/16.3 MB 5.2 MB/s eta 0:00:03\n",
      "   ----- ---------------------------------- 2.4/16.3 MB 5.7 MB/s eta 0:00:03\n",
      "   ------ --------------------------------- 2.6/16.3 MB 5.8 MB/s eta 0:00:03\n",
      "   ------- -------------------------------- 3.0/16.3 MB 5.8 MB/s eta 0:00:03\n",
      "   -------- ------------------------------- 3.4/16.3 MB 6.0 MB/s eta 0:00:03\n",
      "   -------- ------------------------------- 3.6/16.3 MB 6.1 MB/s eta 0:00:03\n",
      "   --------- ------------------------------ 3.8/16.3 MB 5.8 MB/s eta 0:00:03\n",
      "   ---------- ----------------------------- 4.1/16.3 MB 5.9 MB/s eta 0:00:03\n",
      "   ----------- ---------------------------- 4.5/16.3 MB 6.0 MB/s eta 0:00:02\n",
      "   ----------- ---------------------------- 4.9/16.3 MB 6.1 MB/s eta 0:00:02\n",
      "   ------------ --------------------------- 5.0/16.3 MB 5.9 MB/s eta 0:00:02\n",
      "   ------------- -------------------------- 5.4/16.3 MB 6.0 MB/s eta 0:00:02\n",
      "   -------------- ------------------------- 5.9/16.3 MB 6.3 MB/s eta 0:00:02\n",
      "   --------------- ------------------------ 6.4/16.3 MB 6.5 MB/s eta 0:00:02\n",
      "   ---------------- ----------------------- 6.8/16.3 MB 6.6 MB/s eta 0:00:02\n",
      "   ----------------- ---------------------- 7.2/16.3 MB 6.8 MB/s eta 0:00:02\n",
      "   ------------------- -------------------- 7.7/16.3 MB 6.9 MB/s eta 0:00:02\n",
      "   -------------------- ------------------- 8.4/16.3 MB 7.1 MB/s eta 0:00:02\n",
      "   --------------------- ------------------ 8.9/16.3 MB 7.3 MB/s eta 0:00:02\n",
      "   ----------------------- ---------------- 9.5/16.3 MB 7.6 MB/s eta 0:00:01\n",
      "   ------------------------ --------------- 9.9/16.3 MB 7.6 MB/s eta 0:00:01\n",
      "   ------------------------- -------------- 10.5/16.3 MB 8.1 MB/s eta 0:00:01\n",
      "   -------------------------- ------------- 11.0/16.3 MB 8.5 MB/s eta 0:00:01\n",
      "   ---------------------------- ----------- 11.5/16.3 MB 8.7 MB/s eta 0:00:01\n",
      "   ----------------------------- ---------- 12.0/16.3 MB 9.0 MB/s eta 0:00:01\n",
      "   ------------------------------ --------- 12.5/16.3 MB 9.2 MB/s eta 0:00:01\n",
      "   -------------------------------- ------- 13.2/16.3 MB 9.6 MB/s eta 0:00:01\n",
      "   --------------------------------- ------ 13.5/16.3 MB 9.5 MB/s eta 0:00:01\n",
      "   ---------------------------------- ----- 14.1/16.3 MB 10.1 MB/s eta 0:00:01\n",
      "   ------------------------------------ --- 14.7/16.3 MB 10.4 MB/s eta 0:00:01\n",
      "   ------------------------------------- -- 15.2/16.3 MB 10.7 MB/s eta 0:00:01\n",
      "   -------------------------------------- - 15.7/16.3 MB 11.1 MB/s eta 0:00:01\n",
      "   ---------------------------------------  16.3/16.3 MB 11.3 MB/s eta 0:00:01\n",
      "   ---------------------------------------- 16.3/16.3 MB 10.9 MB/s eta 0:00:00\n",
      "Installing collected packages: numpy\n",
      "Successfully installed numpy-2.0.1\n",
      "Note: you may need to restart the kernel to use updated packages.\n"
     ]
    },
    {
     "name": "stderr",
     "output_type": "stream",
     "text": [
      "  WARNING: The scripts f2py.exe and numpy-config.exe are installed in 'c:\\Users\\Kubra\\AppData\\Local\\Programs\\Python\\Python312\\Scripts' which is not on PATH.\n",
      "  Consider adding this directory to PATH or, if you prefer to suppress this warning, use --no-warn-script-location.\n",
      "\n",
      "[notice] A new release of pip is available: 24.0 -> 24.2\n",
      "[notice] To update, run: python.exe -m pip install --upgrade pip\n"
     ]
    }
   ],
   "source": [
    "pip install numpy"
   ]
  },
  {
   "attachments": {},
   "cell_type": "markdown",
   "metadata": {},
   "source": [
    "# Problem 3"
   ]
  },
  {
   "cell_type": "code",
   "execution_count": 16,
   "metadata": {},
   "outputs": [
    {
     "name": "stdout",
     "output_type": "stream",
     "text": [
      "Rastgele 10 sayıdan oluşan matris: [57 39 51 71 33 87 11 15 41 29]\n",
      "Matrisin boyutu: (10,)\n",
      "Matrisin boyut sayısı: 1\n",
      "Matrisin eleman sayısı: 10\n",
      "Matrisin eleman tipi: int64\n"
     ]
    }
   ],
   "source": [
    "# 1 - 5 ile 100 arasında ikişer ikişer atlayarak rastgele 10 sayıdan oluşan matris üretin\n",
    "\n",
    "# 2 - matris'in özelliklerini inceleyin\n",
    "\n",
    "import numpy as np\n",
    "\n",
    "def matris_islemleri():\n",
    "    # 1 - 5 ile 100 arasında ikişer ikişer atlayarak rastgele 10 sayıdan oluşan matris üretin\n",
    "    sayilar = np.arange(5, 101, 2)\n",
    "    matris = np.random.choice(sayilar, 10, replace=False)\n",
    "    print(\"Rastgele 10 sayıdan oluşan matris:\", matris)\n",
    "    \n",
    "    # 2 - matris'in özelliklerini inceleyin\n",
    "    matris_boyut = matris.shape\n",
    "    matris_boyut_sayisi = matris.ndim\n",
    "    matris_eleman_sayisi = matris.size\n",
    "    matris_eleman_tipi = matris.dtype\n",
    "    \n",
    "    print(\"Matrisin boyutu:\", matris_boyut)\n",
    "    print(\"Matrisin boyut sayısı:\", matris_boyut_sayisi)\n",
    "    print(\"Matrisin eleman sayısı:\", matris_eleman_sayisi)\n",
    "    print(\"Matrisin eleman tipi:\", matris_eleman_tipi)\n",
    "    \n",
    "    return matris\n",
    "\n",
    "# Fonksiyonu çağırarak sonucu görebilirsiniz\n",
    "matris_ = matris_islemleri()\n"
   ]
  }
 ],
 "metadata": {
  "kernelspec": {
   "display_name": "Python 3",
   "language": "python",
   "name": "python3"
  },
  "language_info": {
   "codemirror_mode": {
    "name": "ipython",
    "version": 3
   },
   "file_extension": ".py",
   "mimetype": "text/x-python",
   "name": "python",
   "nbconvert_exporter": "python",
   "pygments_lexer": "ipython3",
   "version": "3.12.3"
  },
  "orig_nbformat": 4,
  "vscode": {
   "interpreter": {
    "hash": "5026d2d6e7aaaaba093def813beadff083d8733e4a511af01735cbabd156995d"
   }
  }
 },
 "nbformat": 4,
 "nbformat_minor": 2
}
