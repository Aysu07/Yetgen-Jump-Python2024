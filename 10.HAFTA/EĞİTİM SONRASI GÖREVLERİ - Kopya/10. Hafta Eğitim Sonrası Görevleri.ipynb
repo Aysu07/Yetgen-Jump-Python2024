{
 "cells": [
  {
   "attachments": {},
   "cell_type": "markdown",
   "metadata": {},
   "source": [
    "# Problem 1 "
   ]
  },
  {
   "cell_type": "code",
   "execution_count": 1,
   "metadata": {},
   "outputs": [
    {
     "name": "stdout",
     "output_type": "stream",
     "text": [
      "[1 2 3 4 5]\n"
     ]
    }
   ],
   "source": [
    "import numpy as np\n",
    "\n",
    "def sirali_array_olustur():\n",
    "    # 5 elemanlı bir numpy array oluşturun\n",
    "    dizi = np.array([5, 3, 1, 4, 2])\n",
    "    \n",
    "    # Array'i küçükten büyüğe sıralayın\n",
    "    sirali_dizi = np.sort(dizi)\n",
    "    \n",
    "    return sirali_dizi\n",
    "\n",
    "# Fonksiyonu çağırarak sonucu yazdırın\n",
    "print(sirali_array_olustur())"
   ]
  },
  {
   "attachments": {},
   "cell_type": "markdown",
   "metadata": {},
   "source": [
    "# Problem 2"
   ]
  },
  {
   "cell_type": "code",
   "execution_count": 2,
   "metadata": {},
   "outputs": [
    {
     "name": "stdout",
     "output_type": "stream",
     "text": [
      "dizi1: [10 15 30 45 60]\n",
      "dizi2: [ 5  6  7  8  9 10 11 12 13 14 15]\n",
      "dizi3: [ 50  55  60  65  70  75  80  85  90  95 100]\n",
      "dizi4: [0. 0. 0. 0. 0. 0. 0. 0. 0. 0.]\n",
      "dizi5: [1. 1. 1. 1. 1. 1. 1. 1. 1. 1.]\n",
      "dizi6: [  0.  25.  50.  75. 100.]\n",
      "dizi7: [19 13 16 16 22]\n",
      "dizi8: [ 0.58175157  0.20378601 -0.28881924  0.64756582  0.73401932 -0.35832723\n",
      " -0.98562641  0.55283368  0.00946921 -0.48206688]\n",
      "matris: [[25 36 14 13 22]\n",
      " [20 21 50 30 36]\n",
      " [12 14 38 20 36]]\n",
      "toplam: 8\n",
      "en_büyük: 50\n",
      "en_küçük: 12\n",
      "ortalama: 25.8\n",
      "en_büyük_indeks: (np.int64(1), np.int64(2))\n",
      "ilk_3_eleman: [10 11 12]\n",
      "tersten_dizi: [12 11 10]\n",
      "ilk_satir: [25 36 14 13 22]\n",
      "2_3_eleman: 50\n",
      "ilk_elemanlar: [25 20 12]\n",
      "karesini_al: [[ 625 1296  196  169  484]\n",
      " [ 400  441 2500  900 1296]\n",
      " [ 144  196 1444  400 1296]]\n",
      "pozitif_ciftler: [48 26 48 50 48]\n"
     ]
    }
   ],
   "source": [
    "import numpy as np\n",
    "\n",
    "def numpy_islemleri():\n",
    "    # 1 - (10, 15, 30, 45, 60) değerlerine sahip numpy dizisi oluşturun\n",
    "    dizi1 = np.array([10, 15, 30, 45, 60])\n",
    "    \n",
    "    # 2 - (5-15) arasındaki sayılarla numpy dizisi oluşturun\n",
    "    dizi2 = np.arange(5, 16)\n",
    "    \n",
    "    # 3 - (50-100) arasında 5'er 5'er artarak numpy dizisi oluşturun\n",
    "    dizi3 = np.arange(50, 101, 5)\n",
    "    \n",
    "    # 4 - 10 elemanlı sıfırlardan oluşan bir dizi oluşturun\n",
    "    dizi4 = np.zeros(10)\n",
    "    \n",
    "    # 5 - 10 elemanlı birlerden oluşan bir dizi oluşturun\n",
    "    dizi5 = np.ones(10)\n",
    "    \n",
    "    # 6 - (0-100) arasında eşit aralıklı 5 sayı üretin\n",
    "    dizi6 = np.linspace(0, 100, 5)\n",
    "    \n",
    "    # 7 - (10-30) arasında rastgele 5 tane tamsayı üretin\n",
    "    dizi7 = np.random.randint(10, 31, size=5)\n",
    "    \n",
    "    # 8 - [-1 ile 1] arasında 10 adet sayı üretin\n",
    "    dizi8 = np.random.uniform(-1, 1, size=10)\n",
    "    \n",
    "    # 9 - (3x5) boyutlarında (10-50) arasında rastgele bir matris oluşturun\n",
    "    matris = np.random.randint(10, 51, size=(3, 5))\n",
    "    \n",
    "    # 10 - Üretilen matrisin satır ve sütun sayıları toplamlarını hesaplayın\n",
    "    satir_sayisi, sutun_sayisi = matris.shape\n",
    "    toplam = satir_sayisi + sutun_sayisi\n",
    "    \n",
    "    # 11 - Üretilen matrisin en büyük, en küçük ve ortalamasını hesaplayın\n",
    "    en_büyük = np.max(matris)\n",
    "    en_küçük = np.min(matris)\n",
    "    ortalama = np.mean(matris)\n",
    "    \n",
    "    # 12 - Üretilen matrisin en büyük değerinin indeksini bulun\n",
    "    en_büyük_indeks = np.unravel_index(np.argmax(matris), matris.shape)\n",
    "    \n",
    "    # 13 - (10-20) arasındaki sayıları içeren dizinin ilk 3 elemanını seçin\n",
    "    dizi13 = np.arange(10, 21)[:3]\n",
    "    \n",
    "    # 14 - Üretilen dizinin elemanlarını tersten yazdırın\n",
    "    tersten_dizi13 = dizi13[::-1]\n",
    "    \n",
    "    # 15 - Üretilen matrisin ilk satırını seçin\n",
    "    ilk_satir = matris[0]\n",
    "    \n",
    "    # 16 - Üretilen matrisin 2. satır 3. sütundaki elemanı\n",
    "    eleman = matris[1, 2]\n",
    "    \n",
    "    # 17 - Üretilen matrisin tüm satırlardaki ilk elemanı seçin\n",
    "    ilk_elemanlar = matris[:, 0]\n",
    "    \n",
    "    # 18 - Üretilen matrisin her bir elemanının karesini alın\n",
    "    karesini_al = np.power(matris, 2)\n",
    "    \n",
    "    # 19 - Üretilen matris elemanlarının hangisi pozitif çift sayıdır ? Aralığı (-50,+50) arasında yapınız\n",
    "    matris2 = np.random.randint(-50, 51, size=(3, 5))\n",
    "    pozitif_ciftler = matris2[(matris2 > 0) & (matris2 % 2 == 0)]\n",
    "    \n",
    "    return {\n",
    "        'dizi1': dizi1,\n",
    "        'dizi2': dizi2,\n",
    "        'dizi3': dizi3,\n",
    "        'dizi4': dizi4,\n",
    "        'dizi5': dizi5,\n",
    "        'dizi6': dizi6,\n",
    "        'dizi7': dizi7,\n",
    "        'dizi8': dizi8,\n",
    "        'matris': matris,\n",
    "        'toplam': toplam,\n",
    "        'en_büyük': en_büyük,\n",
    "        'en_küçük': en_küçük,\n",
    "        'ortalama': ortalama,\n",
    "        'en_büyük_indeks': en_büyük_indeks,\n",
    "        'ilk_3_eleman': dizi13,\n",
    "        'tersten_dizi': tersten_dizi13,\n",
    "        'ilk_satir': ilk_satir,\n",
    "        '2_3_eleman': eleman,\n",
    "        'ilk_elemanlar': ilk_elemanlar,\n",
    "        'karesini_al': karesini_al,\n",
    "        'pozitif_ciftler': pozitif_ciftler\n",
    "    }\n",
    "\n",
    "# Fonksiyonu çağırarak sonuçları yazdırın\n",
    "sonuclar = numpy_islemleri()\n",
    "for anahtar, deger in sonuclar.items():\n",
    "    print(f\"{anahtar}: {deger}\")"
   ]
  }
 ],
 "metadata": {
  "kernelspec": {
   "display_name": "Python 3",
   "language": "python",
   "name": "python3"
  },
  "language_info": {
   "codemirror_mode": {
    "name": "ipython",
    "version": 3
   },
   "file_extension": ".py",
   "mimetype": "text/x-python",
   "name": "python",
   "nbconvert_exporter": "python",
   "pygments_lexer": "ipython3",
   "version": "3.12.3"
  },
  "orig_nbformat": 4,
  "vscode": {
   "interpreter": {
    "hash": "5026d2d6e7aaaaba093def813beadff083d8733e4a511af01735cbabd156995d"
   }
  }
 },
 "nbformat": 4,
 "nbformat_minor": 2
}
