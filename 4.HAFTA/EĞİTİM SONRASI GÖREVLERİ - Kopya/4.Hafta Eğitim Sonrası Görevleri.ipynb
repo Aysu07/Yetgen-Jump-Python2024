{
 "cells": [
  {
   "cell_type": "markdown",
   "metadata": {},
   "source": [
    "# Problem 1\n",
    "`ogrenciler` adında bir sözlük oluşturunuz. Kullanıcıdan döngü yardımıyla 3 öğrenci için veri girmesini isteyerek öğrencilerin sırasıyla okul numarası, isim, soy isim, telefon numarası ve doğum tarihi bilgilerini alınız. Aldığınız öğrenci bilgilerini yine aynı döngü yardımıyla `ogrenciler` adındaki sözlükte saklayınız. Daha sonra öğrenci bilgilerinin bulunduğu sözlük yapısını ekrana bastırınız.\n",
    "\n"
   ]
  },
  {
   "cell_type": "code",
   "execution_count": 1,
   "metadata": {},
   "outputs": [
    {
     "name": "stdout",
     "output_type": "stream",
     "text": [
      "\n",
      "Öğrenci Bilgileri:\n",
      "\n",
      "Öğrenci Bilgileri:\n",
      "\n",
      "Öğrenci Bilgileri:\n",
      "Okul Numarası: 550\n",
      "Isim: 550\n",
      "Soyisim: Kaya\n",
      "Telefon: 0 544 348 2526\n",
      "Dogum_tarihi: 2007\n",
      "\n",
      "Okul Numarası: 11341\n",
      "Isim: ela\n",
      "Soyisim: altun\n",
      "Telefon: 0546 742 8290\n",
      "Dogum_tarihi: 1999\n",
      "\n"
     ]
    }
   ],
   "source": [
    "# 1.Problemin Çözümünü Buraya Yazınız\n",
    "ogrenciler = {}\n",
    "for i in range(3):\n",
    "    okul_numarasi = input(f\"{i+1}. öğrencinin okul numarasını giriniz: \")\n",
    "    isim = input(f\"{i+1}. öğrencinin ismini giriniz: \")\n",
    "    soyisim = input(f\"{i+1}. öğrencinin soy ismini giriniz: \")\n",
    "    telefon = input(f\"{i+1}. öğrencinin telefon numarasını giriniz: \")\n",
    "    dogum_tarihi = input(f\"{i+1}. öğrencinin doğum tarihini giriniz: \")\n",
    "    ogrenciler[okul_numarasi] = {\"isim\": isim,\"soyisim\": soyisim,\"telefon\": telefon,\"dogum_tarihi\": dogum_tarihi}\n",
    "    print(\"\\nÖğrenci Bilgileri:\")\n",
    "for okul_numarasi, bilgiler in ogrenciler.items():\n",
    "    print(f\"Okul Numarası: {okul_numarasi}\")\n",
    "    for key, value in bilgiler.items():\n",
    "        print(f\"{key.capitalize()}: {value}\")\n",
    "    print()\n",
    "\n",
    "\n",
    "\n",
    "\n"
   ]
  },
  {
   "cell_type": "markdown",
   "metadata": {},
   "source": [
    "# Problem 2\n",
    "\n",
    "### a - Biraz ısınarak başlayalım!\n",
    "\n",
    "```\n",
    "numbers = [5,10,10,15,15,15,20,20,20,20]\n",
    "```\n",
    "\n",
    "Yukarıda `numbers` adında 10 elemanlı bir liste verilmiştir. Bu listenin her elemanını kontrol eden ve tekrar eden elemanları bir kez olacak şekilde başka bir listeye kopyalayan bir program yazınız. Son olarak oluşturduğunuz listeyi ekrana bastırınız.\n",
    "\n",
    "\n",
    "\n",
    "\n",
    "```\n",
    ">Output\n",
    "[5, 10, 15, 20]\n",
    "```\n"
   ]
  },
  {
   "cell_type": "code",
   "execution_count": 2,
   "metadata": {},
   "outputs": [
    {
     "name": "stdout",
     "output_type": "stream",
     "text": [
      "[5, 10, 15, 20]\n"
     ]
    }
   ],
   "source": [
    "# 2.Problemin a Şıkkının Çözümünü Buraya Yazınız \n",
    "numbers = [5, 10, 10, 15, 15, 15, 20, 20, 20, 20]\n",
    "unique_numbers = []\n",
    "for number in numbers:\n",
    "    if number not in unique_numbers:\n",
    "        unique_numbers.append(number)\n",
    "print(unique_numbers)\n",
    "\n"
   ]
  },
  {
   "cell_type": "markdown",
   "metadata": {},
   "source": [
    "### 🌶️ b) Hadi işi biraz daha zorlaştıralım! \n",
    "\n",
    "\n",
    "Şimdiyse senden `numbers` isimli listedeki tekrar eden elemanları `repeatNumbers` adındaki listeye; tekrar etmeyen elemanları `uniqueNumbers`adındaki listeye kopyalayan yazmanı ve listeleri ekrana bastırmanı bekliyoruz\n",
    "\n",
    "```\n",
    ">Output\n",
    "Tekrar Eden Elemanlar: [10, 10, 15, 15, 15, 20, 20, 20, 20]\n",
    "Tekrar Etmeyen Elemanlar: [5]\n",
    "```"
   ]
  },
  {
   "cell_type": "code",
   "execution_count": 4,
   "metadata": {},
   "outputs": [
    {
     "name": "stdout",
     "output_type": "stream",
     "text": [
      "Tekrar Eden Elemanlar: [10, 10, 15, 15, 15, 20, 20, 20, 20]\n",
      "Tekrar Etmeyen Elemanlar: [5]\n"
     ]
    }
   ],
   "source": [
    "# 2.Problemin b Şıkkının Çözümünü Buraya Yazınız \n",
    "numbers = [5, 10, 10, 15, 15, 15, 20, 20, 20, 20]\n",
    "repeatNumbers = []\n",
    "uniqueNumbers = []\n",
    "counts = {}\n",
    "for number in numbers:\n",
    "    if number in counts:\n",
    "        counts[number] += 1\n",
    "    else:\n",
    "        counts[number] = 1\n",
    "for number, count in counts.items():\n",
    "    if count > 1:\n",
    "        repeatNumbers.extend([number] * count)\n",
    "    else:\n",
    "        uniqueNumbers.append(number)\n",
    "print(\"Tekrar Eden Elemanlar:\", repeatNumbers)\n",
    "print(\"Tekrar Etmeyen Elemanlar:\", uniqueNumbers)\n",
    "\n",
    "\n",
    "\n",
    "\n",
    "\n",
    "\n"
   ]
  },
  {
   "cell_type": "markdown",
   "metadata": {},
   "source": [
    "# Problem 3\n",
    "sn1 = {1,2,3,4,5}\n",
    "\n",
    "sn2 = {4,5,6,7,8}\n",
    "\n",
    " Verilen 2 adet küme için kesişimlerini, farklarını ve birleşimlerini bulunuz. "
   ]
  },
  {
   "cell_type": "code",
   "execution_count": 5,
   "metadata": {},
   "outputs": [
    {
     "name": "stdout",
     "output_type": "stream",
     "text": [
      "Kesişim: {4, 5}\n",
      "sn1 - sn2 Farkı: {1, 2, 3}\n",
      "sn2 - sn1 Farkı: {8, 6, 7}\n",
      "Birleşim: {1, 2, 3, 4, 5, 6, 7, 8}\n"
     ]
    }
   ],
   "source": [
    "# 3.Problemin Çözümünü Buraya Yazınız\n",
    "sn1 = {1, 2, 3, 4, 5}\n",
    "\n",
    "sn2 = {4, 5, 6, 7, 8}\n",
    "\n",
    "# Kesişim (Intersection)\n",
    "intersection = sn1.intersection(sn2)\n",
    "print(\"Kesişim:\", intersection)\n",
    "\n",
    "# sn1 ve sn2'nin farkı\n",
    "difference_sn1_sn2 = sn1.difference(sn2)\n",
    "difference_sn2_sn1 = sn2.difference(sn1)\n",
    "print(\"sn1 - sn2 Farkı:\", difference_sn1_sn2)\n",
    "print(\"sn2 - sn1 Farkı:\", difference_sn2_sn1)\n",
    "\n",
    "# Birleşim (Union)\n",
    "union = sn1.union(sn2)\n",
    "print(\"Birleşim:\", union)\n",
    "\n",
    "\n",
    "\n"
   ]
  },
  {
   "cell_type": "markdown",
   "metadata": {},
   "source": [
    "# Problem 4\n",
    "\n",
    "Buradaki işlemlerimizin tamamı stringler içindir. Aşağıda verilecek olan metodlar için kendinizin örnek yaratması gerekmektedir. \n",
    "\n",
    "Örneğin `upper` için `string` değişkeni oluştururken` k = \"BAC\"` şeklinde oluşturmayınız. Bunun yerine k değişkenini `k = \"bac`\" şeklinde oluşturmanız `upper` metodundaki değişimi görebilmeniz için daha iyi olacaktır.\n",
    "\n",
    "Bütün metodlardaki değişimin gözle görülür şekilde değişimi beklenmektedir.\n",
    "\n",
    "\n",
    "1- capitalize(), lower(), upper(), swapcase(), title(), replace()\n",
    "\n",
    "2- endswith(), startswith(), find(), index(), count()\n",
    "\n",
    "3- split(), strip(), join(), islower(), isalpha(), isdigit()\n",
    "\n",
    "\n",
    "Yukarıdaki `string` metodlarındaki değişimleri görebildiğimiz bir program yazınız.\n"
   ]
  },
  {
   "cell_type": "code",
   "execution_count": 2,
   "metadata": {},
   "outputs": [
    {
     "name": "stdout",
     "output_type": "stream",
     "text": [
      "capitalize(): Hello world 789\n",
      "lower(): hello world 789\n",
      "upper(): HELLO WORLD 789\n",
      "swapcase(): hELLO wORLD 789\n",
      "title(): Hello World 789\n",
      "replace('a', 'X'): Hello World 789\n",
      "endswith('123'): False\n",
      "startswith('merhaba'): False\n",
      "find('Dünya'): -1\n"
     ]
    },
    {
     "ename": "ValueError",
     "evalue": "substring not found",
     "output_type": "error",
     "traceback": [
      "\u001b[1;31m---------------------------------------------------------------------------\u001b[0m",
      "\u001b[1;31mValueError\u001b[0m                                Traceback (most recent call last)",
      "Cell \u001b[1;32mIn[2], line 31\u001b[0m\n\u001b[0;32m     28\u001b[0m \u001b[38;5;28mprint\u001b[39m(\u001b[38;5;124m\"\u001b[39m\u001b[38;5;124mfind(\u001b[39m\u001b[38;5;124m'\u001b[39m\u001b[38;5;124mDünya\u001b[39m\u001b[38;5;124m'\u001b[39m\u001b[38;5;124m):\u001b[39m\u001b[38;5;124m\"\u001b[39m, s\u001b[38;5;241m.\u001b[39mfind(\u001b[38;5;124m'\u001b[39m\u001b[38;5;124mDünya\u001b[39m\u001b[38;5;124m'\u001b[39m))\n\u001b[0;32m     30\u001b[0m \u001b[38;5;66;03m# index()\u001b[39;00m\n\u001b[1;32m---> 31\u001b[0m \u001b[38;5;28mprint\u001b[39m(\u001b[38;5;124m\"\u001b[39m\u001b[38;5;124mindex(\u001b[39m\u001b[38;5;124m'\u001b[39m\u001b[38;5;124mDünya\u001b[39m\u001b[38;5;124m'\u001b[39m\u001b[38;5;124m):\u001b[39m\u001b[38;5;124m\"\u001b[39m, \u001b[43ms\u001b[49m\u001b[38;5;241;43m.\u001b[39;49m\u001b[43mindex\u001b[49m\u001b[43m(\u001b[49m\u001b[38;5;124;43m'\u001b[39;49m\u001b[38;5;124;43mDünya\u001b[39;49m\u001b[38;5;124;43m'\u001b[39;49m\u001b[43m)\u001b[49m)\n\u001b[0;32m     33\u001b[0m \u001b[38;5;66;03m# count()\u001b[39;00m\n\u001b[0;32m     34\u001b[0m \u001b[38;5;28mprint\u001b[39m(\u001b[38;5;124m\"\u001b[39m\u001b[38;5;124mcount(\u001b[39m\u001b[38;5;124m'\u001b[39m\u001b[38;5;124ma\u001b[39m\u001b[38;5;124m'\u001b[39m\u001b[38;5;124m):\u001b[39m\u001b[38;5;124m\"\u001b[39m, s\u001b[38;5;241m.\u001b[39mcount(\u001b[38;5;124m'\u001b[39m\u001b[38;5;124ma\u001b[39m\u001b[38;5;124m'\u001b[39m))\n",
      "\u001b[1;31mValueError\u001b[0m: substring not found"
     ]
    }
   ],
   "source": [
    "# 4.Problemin Çözümünü Buraya Yazınız\n",
    "s = \"Hello World 789\"\n",
    "# capitalize()\n",
    "print(\"capitalize():\", s.capitalize())\n",
    "\n",
    "# lower()\n",
    "print(\"lower():\", s.lower())\n",
    "\n",
    "# upper()\n",
    "print(\"upper():\", s.upper())\n",
    "\n",
    "# swapcase()\n",
    "print(\"swapcase():\", s.swapcase())\n",
    "\n",
    "# title()\n",
    "print(\"title():\", s.title())\n",
    "\n",
    "# replace()\n",
    "print(\"replace('a', 'X'):\", s.replace('a', 'X'))\n",
    "\n",
    "# endswith()\n",
    "print(\"endswith('123'):\", s.endswith('123'))\n",
    "\n",
    "# startswith()\n",
    "print(\"startswith('merhaba'):\", s.startswith('merhaba'))\n",
    "\n",
    "# find()\n",
    "print(\"find('Dünya'):\", s.find('Dünya'))\n",
    "\n",
    "# index()\n",
    "print(\"index('Dünya'):\", s.index('Dünya'))\n",
    "\n",
    "# count()\n",
    "print(\"count('a'):\", s.count('a'))\n",
    "\n",
    "# split()\n",
    "print(\"split():\", s.split())\n",
    "\n",
    "# strip()\n",
    "print(\"strip():\", s.strip())\n",
    "\n",
    "# join()\n",
    "words = s.split()\n",
    "print(\"join():\", '-'.join(words))\n",
    "\n",
    "# islower()\n",
    "print(\"islower():\", s.islower())\n",
    "\n",
    "# isalpha()\n",
    "print(\"isalpha():\", s.isalpha())\n",
    "\n",
    "# isdigit()\n",
    "print(\"isdigit():\", s.isdigit())\n",
    "\n",
    "\n",
    "\n",
    "\n"
   ]
  }
 ],
 "metadata": {
  "kernelspec": {
   "display_name": "Python 3.10.5 64-bit",
   "language": "python",
   "name": "python3"
  },
  "language_info": {
   "codemirror_mode": {
    "name": "ipython",
    "version": 3
   },
   "file_extension": ".py",
   "mimetype": "text/x-python",
   "name": "python",
   "nbconvert_exporter": "python",
   "pygments_lexer": "ipython3",
   "version": "3.12.3"
  },
  "orig_nbformat": 4,
  "vscode": {
   "interpreter": {
    "hash": "5026d2d6e7aaaaba093def813beadff083d8733e4a511af01735cbabd156995d"
   }
  }
 },
 "nbformat": 4,
 "nbformat_minor": 2
}
